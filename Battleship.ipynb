{
 "cells": [
  {
   "cell_type": "code",
   "execution_count": 1,
   "metadata": {
    "collapsed": false
   },
   "outputs": [],
   "source": [
    ":set -XScopedTypeVariables\n",
    "\n",
    "import Control.Applicative ((<|>))\n",
    "import Control.Monad.Trans.State.Strict\n",
    "import Data.Bool (bool)\n",
    "import System.Random\n",
    "import qualified Data.Map.Strict as M\n",
    "import qualified Data.Set        as S\n",
    "\n",
    "data Row = R1 | R2 | R3 | R4 | R5 | R6 | R7 | R8 | R9 | R10\n",
    "    deriving (Bounded, Eq, Ord, Enum, Show)\n",
    "\n",
    "data Col = Ca | Cb | Cc | Cd | Ce | Cf | Cg | Ch | Ci | Cj\n",
    "    deriving (Bounded, Eq, Ord, Enum, Show)\n",
    "\n",
    "data Coord = Coord Row Col\n",
    "    deriving (Eq, Show, Ord)\n",
    "\n",
    "allCoords = Coord <$> range <*> range\n",
    "    where range = toEnum <$> [0..9]\n",
    "\n",
    "data Ship = Patrol | Cruiser | Submarine | BattleShip | Carrier\n",
    "    deriving (Eq, Ord, Show, Enum)\n",
    "\n",
    "data Move = Miss | Hit deriving (Eq, Show)\n",
    "\n",
    "data Player = Player1 | Player2 deriving (Eq, Show)\n",
    "\n",
    "type Board = M.Map Ship (S.Set Coord)\n",
    "type Track = S.Set Coord\n",
    "\n",
    "data Status = Won Player | InPlay deriving (Show)\n",
    "\n",
    "data Game = Game \n",
    "    { player1Board :: Board\n",
    "    , player1Track :: Track\n",
    "    , player2Board :: Board\n",
    "    , player2Track :: Track\n",
    "    }\n",
    "    deriving (Eq, Show)"
   ]
  },
  {
   "cell_type": "code",
   "execution_count": 2,
   "metadata": {
    "collapsed": false
   },
   "outputs": [],
   "source": [
    "safeToEnum :: forall a . (Enum a, Bounded a) => Int -> Maybe a\n",
    "safeToEnum from = if (from < (fromEnum (minBound :: a)) || from > (fromEnum (maxBound :: a))) then Nothing else (Just $ toEnum from)\n",
    "\n",
    "safeFromTo :: forall a . (Enum a, Bounded a) => Int -> Int -> Maybe [a]\n",
    "safeFromTo from to = sequence $ map safeToEnum [from..to]\n",
    "\n",
    "makeHorizontal :: (Int, Int) -> Ship -> Maybe (S.Set Coord)\n",
    "makeHorizontal (x, y) ship = let\n",
    "    len    = (fromEnum ship) + 1\n",
    "    rows   = sequence $ replicate len (safeToEnum y :: Maybe Row)\n",
    "    cols   = safeFromTo x (x+len) :: Maybe [Col]\n",
    "    coords = zip <$> rows <*> cols\n",
    "    in S.fromList . map (uncurry Coord) <$> coords\n",
    "\n",
    "makeVertical :: (Int, Int) -> Ship -> Maybe (S.Set Coord)\n",
    "makeVertical (x, y) ship = let\n",
    "    len    = (fromEnum ship) + 1\n",
    "    rows   = safeFromTo y (y+len) :: Maybe [Row]\n",
    "    cols   = sequence $ replicate len (safeToEnum x :: Maybe Col)\n",
    "    coords = zip <$> rows <*> cols\n",
    "    in S.fromList . map (uncurry Coord) <$> coords\n",
    "\n",
    "pair = (,) <$> r <*> r\n",
    "    where r = randomRIO (0,9)\n",
    "\n",
    "genBoard' []     board = return board\n",
    "genBoard' (s:ss) board = do\n",
    "    p   <- pair\n",
    "    let cs' = makeHorizontal p s <|> makeVertical p s\n",
    "    let pr  = S.unions $ M.elems board\n",
    "    case cs' of\n",
    "        Just cs | S.intersection cs pr == S.empty -> let\n",
    "            board' = M.insert s cs board\n",
    "            in genBoard' ss board'\n",
    "        _ -> genBoard' (s:ss) board\n",
    "\n",
    "genBoard = genBoard' [Carrier, BattleShip, Submarine, Patrol, Cruiser] M.empty"
   ]
  },
  {
   "cell_type": "code",
   "execution_count": 3,
   "metadata": {
    "collapsed": false
   },
   "outputs": [
    {
     "data": {
      "text/plain": [
       "(Miss,Game {player1Board = fromList [(Patrol,fromList [Coord R4 Ci]),(Cruiser,fromList [Coord R6 Ce,Coord R6 Cf]),(Submarine,fromList [Coord R9 Cb,Coord R9 Cc,Coord R9 Cd]),(BattleShip,fromList [Coord R4 Cg,Coord R5 Cg,Coord R6 Cg,Coord R7 Cg]),(Carrier,fromList [Coord R8 Ce,Coord R8 Cf,Coord R8 Cg,Coord R8 Ch,Coord R8 Ci])], player1Track = fromList [Coord R4 Ci], player2Board = fromList [(Patrol,fromList [Coord R4 Ce]),(Cruiser,fromList [Coord R1 Ci,Coord R2 Ci]),(Submarine,fromList [Coord R10 Cg,Coord R10 Ch,Coord R10 Ci]),(BattleShip,fromList [Coord R3 Cj,Coord R4 Cj,Coord R5 Cj,Coord R6 Cj]),(Carrier,fromList [Coord R5 Ca,Coord R5 Cb,Coord R5 Cc,Coord R5 Cd,Coord R5 Ce])], player2Track = fromList []})"
      ]
     },
     "metadata": {},
     "output_type": "display_data"
    },
    {
     "data": {
      "text/plain": [
       "(InPlay,Game {player1Board = fromList [(Patrol,fromList [Coord R4 Ci]),(Cruiser,fromList [Coord R6 Ce,Coord R6 Cf]),(Submarine,fromList [Coord R9 Cb,Coord R9 Cc,Coord R9 Cd]),(BattleShip,fromList [Coord R4 Cg,Coord R5 Cg,Coord R6 Cg,Coord R7 Cg]),(Carrier,fromList [Coord R8 Ce,Coord R8 Cf,Coord R8 Cg,Coord R8 Ch,Coord R8 Ci])], player1Track = fromList [Coord R4 Ci], player2Board = fromList [(Patrol,fromList [Coord R4 Ce]),(Cruiser,fromList [Coord R1 Ci,Coord R2 Ci]),(Submarine,fromList [Coord R10 Cg,Coord R10 Ch,Coord R10 Ci]),(BattleShip,fromList [Coord R3 Cj,Coord R4 Cj,Coord R5 Cj,Coord R6 Cj]),(Carrier,fromList [Coord R5 Ca,Coord R5 Cb,Coord R5 Cc,Coord R5 Cd,Coord R5 Ce])], player2Track = fromList []})"
      ]
     },
     "metadata": {},
     "output_type": "display_data"
    }
   ],
   "source": [
    "makeAttackingMove :: Player -> Coord -> State Game Move\n",
    "makeAttackingMove Player1 coord = do\n",
    "    game <- get\n",
    "    let p2b  = S.unions $ M.elems $ player2Board game\n",
    "    let p1t  = player1Track game\n",
    "    let p1t' = S.insert coord p1t\n",
    "    let move = bool Miss Hit (coord `S.member` p2b)\n",
    "    put game {player1Track = p1t'}\n",
    "    return move\n",
    "makeAttackingMove Player2 coord = do\n",
    "    game <- get\n",
    "    let p1b  = S.unions $ M.elems $ player1Board game\n",
    "    let p2t  = player2Track game\n",
    "    let p2t' = S.insert coord p2t\n",
    "    let move = bool Miss Hit (coord `S.member` p1b)\n",
    "    put game {player2Track = p2t'}\n",
    "    return move\n",
    "\n",
    "status :: State Game Status\n",
    "status = do\n",
    "    game <- get\n",
    "    let p1b  = S.unions $ M.elems $ player1Board game\n",
    "    let p2t  = S.intersection (player2Track game) p1b\n",
    "    let p2b  = S.unions $ M.elems $ player2Board game\n",
    "    let p1t  = S.intersection (player2Track game) p2b\n",
    "    case () of \n",
    "        _\n",
    "            | p1t == p2b -> return $ Won Player1\n",
    "            | p2t == p1b -> return $ Won Player2\n",
    "            | otherwise  -> return InPlay\n",
    "\n",
    "emptyGame = Game M.empty S.empty M.empty S.empty\n",
    "randomBoard1 <- genBoard\n",
    "randomBoard2 <- genBoard\n",
    "board' = runState (makeAttackingMove Player1 (Coord R4 Ci)) emptyGame {player1Board = randomBoard1, player2Board = randomBoard2}\n",
    "board'\n",
    "runState status (snd board')"
   ]
  },
  {
   "cell_type": "code",
   "execution_count": null,
   "metadata": {
    "collapsed": true
   },
   "outputs": [],
   "source": []
  }
 ],
 "metadata": {
  "kernelspec": {
   "display_name": "Haskell",
   "language": "haskell",
   "name": "haskell"
  },
  "language_info": {
   "codemirror_mode": "ihaskell",
   "file_extension": ".hs",
   "name": "haskell",
   "version": "7.10.3"
  }
 },
 "nbformat": 4,
 "nbformat_minor": 0
}
