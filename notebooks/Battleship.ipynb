{
 "cells": [
  {
   "cell_type": "code",
   "execution_count": 1,
   "metadata": {
    "collapsed": false,
    "deletable": true,
    "editable": true
   },
   "outputs": [],
   "source": [
    "import Battleship\n",
    "import Control.Monad.Trans.State.Strict\n",
    "import qualified Data.Set        as S\n",
    "import qualified Data.Map.Strict as M"
   ]
  },
  {
   "cell_type": "code",
   "execution_count": 2,
   "metadata": {
    "collapsed": false,
    "deletable": true,
    "editable": true
   },
   "outputs": [
    {
     "data": {
      "text/plain": [
       "(Hit,Game {player1Board = fromList [(Patrol,fromList [Coord R7 Ce]),(Cruiser,fromList [Coord R9 Cg,Coord R9 Ch]),(Submarine,fromList [Coord R5 Cg,Coord R5 Ch,Coord R5 Ci]),(BattleShip,fromList [Coord R4 Ce,Coord R4 Cf,Coord R4 Cg,Coord R4 Ch]),(Carrier,fromList [Coord R1 Ca,Coord R1 Cb,Coord R1 Cc,Coord R1 Cd,Coord R1 Ce])], player1Track = fromList [Coord R4 Ci], player2Board = fromList [(Patrol,fromList [Coord R2 Ch]),(Cruiser,fromList [Coord R8 Cf,Coord R8 Cg]),(Submarine,fromList [Coord R7 Ce,Coord R7 Cf,Coord R7 Cg]),(BattleShip,fromList [Coord R3 Ci,Coord R4 Ci,Coord R5 Ci,Coord R6 Ci]),(Carrier,fromList [Coord R3 Cj,Coord R4 Cj,Coord R5 Cj,Coord R6 Cj,Coord R7 Cj])], player2Track = fromList []})"
      ]
     },
     "metadata": {},
     "output_type": "display_data"
    },
    {
     "data": {
      "text/plain": [
       "(InPlay,Game {player1Board = fromList [(Patrol,fromList [Coord R7 Ce]),(Cruiser,fromList [Coord R9 Cg,Coord R9 Ch]),(Submarine,fromList [Coord R5 Cg,Coord R5 Ch,Coord R5 Ci]),(BattleShip,fromList [Coord R4 Ce,Coord R4 Cf,Coord R4 Cg,Coord R4 Ch]),(Carrier,fromList [Coord R1 Ca,Coord R1 Cb,Coord R1 Cc,Coord R1 Cd,Coord R1 Ce])], player1Track = fromList [Coord R4 Ci], player2Board = fromList [(Patrol,fromList [Coord R2 Ch]),(Cruiser,fromList [Coord R8 Cf,Coord R8 Cg]),(Submarine,fromList [Coord R7 Ce,Coord R7 Cf,Coord R7 Cg]),(BattleShip,fromList [Coord R3 Ci,Coord R4 Ci,Coord R5 Ci,Coord R6 Ci]),(Carrier,fromList [Coord R3 Cj,Coord R4 Cj,Coord R5 Cj,Coord R6 Cj,Coord R7 Cj])], player2Track = fromList []})"
      ]
     },
     "metadata": {},
     "output_type": "display_data"
    }
   ],
   "source": [
    "randomBoard1 <- genBoard\n",
    "randomBoard2 <- genBoard\n",
    "board' = runState (makeAttackingMove Player1 (Coord R4 Ci)) emptyGame {player1Board = randomBoard1, player2Board = randomBoard2}\n",
    "board'\n",
    "runState status (snd board')"
   ]
  },
  {
   "cell_type": "code",
   "execution_count": 3,
   "metadata": {
    "collapsed": false,
    "deletable": true,
    "editable": true
   },
   "outputs": [
    {
     "data": {
      "text/plain": [
       "#####.....\n",
       "..........\n",
       "..........\n",
       "....####..\n",
       "......###.\n",
       "..........\n",
       "....#.....\n",
       "..........\n",
       "......##..\n",
       ".........."
      ]
     },
     "metadata": {},
     "output_type": "display_data"
    },
    {
     "data": {
      "text/plain": [
       "..........\n",
       ".......#..\n",
       "........##\n",
       "........##\n",
       "........##\n",
       "........##\n",
       "....###..#\n",
       ".....##...\n",
       "..........\n",
       ".........."
      ]
     },
     "metadata": {},
     "output_type": "display_data"
    }
   ],
   "source": [
    "everyCoord :: [[Coord]]\n",
    "everyCoord = [[Coord (toEnum i) (toEnum j) |j <- [0..9]] | i <- [0..9]]\n",
    "\n",
    "displayBoard board = let\n",
    "    allC = allCoords board\n",
    "    fill = \\p -> if (p `S.member` allC) then '#' else '.'\n",
    "    occ  = map (map fill) everyCoord\n",
    "    in unlines occ\n",
    "\n",
    "putStr $ displayBoard randomBoard1\n",
    "putStr $ displayBoard randomBoard2"
   ]
  },
  {
   "cell_type": "code",
   "execution_count": 21,
   "metadata": {
    "collapsed": false,
    "deletable": true,
    "editable": true
   },
   "outputs": [],
   "source": [
    "map :: (a -> b) -> [a] -> [b]\n",
    "map f xs = foldr ((:) . f) [] xs"
   ]
  },
  {
   "cell_type": "code",
   "execution_count": null,
   "metadata": {
    "collapsed": true,
    "deletable": true,
    "editable": true
   },
   "outputs": [],
   "source": []
  }
 ],
 "metadata": {
  "kernelspec": {
   "display_name": "Haskell",
   "language": "haskell",
   "name": "haskell"
  },
  "language_info": {
   "codemirror_mode": "ihaskell",
   "file_extension": ".hs",
   "name": "haskell",
   "version": "8.0.2"
  }
 },
 "nbformat": 4,
 "nbformat_minor": 0
}
